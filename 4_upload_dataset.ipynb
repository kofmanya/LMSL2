{
 "cells": [
  {
   "cell_type": "code",
   "execution_count": 1,
   "id": "87d5977f-3348-4e40-943b-6ea4ad55d14d",
   "metadata": {},
   "outputs": [
    {
     "name": "stdout",
     "output_type": "stream",
     "text": [
      "Collecting gdown\n",
      "  Downloading gdown-5.2.0-py3-none-any.whl.metadata (5.8 kB)\n",
      "Requirement already satisfied: beautifulsoup4 in /opt/anaconda3/envs/my_new_arm64_environment2/lib/python3.11/site-packages (from gdown) (4.12.3)\n",
      "Requirement already satisfied: filelock in /opt/anaconda3/envs/my_new_arm64_environment2/lib/python3.11/site-packages (from gdown) (3.16.1)\n",
      "Requirement already satisfied: requests[socks] in /opt/anaconda3/envs/my_new_arm64_environment2/lib/python3.11/site-packages (from gdown) (2.32.3)\n",
      "Requirement already satisfied: tqdm in /opt/anaconda3/envs/my_new_arm64_environment2/lib/python3.11/site-packages (from gdown) (4.67.1)\n",
      "Requirement already satisfied: soupsieve>1.2 in /opt/anaconda3/envs/my_new_arm64_environment2/lib/python3.11/site-packages (from beautifulsoup4->gdown) (2.5)\n",
      "Requirement already satisfied: charset-normalizer<4,>=2 in /opt/anaconda3/envs/my_new_arm64_environment2/lib/python3.11/site-packages (from requests[socks]->gdown) (3.3.2)\n",
      "Requirement already satisfied: idna<4,>=2.5 in /opt/anaconda3/envs/my_new_arm64_environment2/lib/python3.11/site-packages (from requests[socks]->gdown) (3.7)\n",
      "Requirement already satisfied: urllib3<3,>=1.21.1 in /opt/anaconda3/envs/my_new_arm64_environment2/lib/python3.11/site-packages (from requests[socks]->gdown) (2.2.3)\n",
      "Requirement already satisfied: certifi>=2017.4.17 in /opt/anaconda3/envs/my_new_arm64_environment2/lib/python3.11/site-packages (from requests[socks]->gdown) (2024.8.30)\n",
      "Requirement already satisfied: PySocks!=1.5.7,>=1.5.6 in /opt/anaconda3/envs/my_new_arm64_environment2/lib/python3.11/site-packages (from requests[socks]->gdown) (1.7.1)\n",
      "Downloading gdown-5.2.0-py3-none-any.whl (18 kB)\n",
      "Installing collected packages: gdown\n",
      "Successfully installed gdown-5.2.0\n",
      "Note: you may need to restart the kernel to use updated packages.\n"
     ]
    }
   ],
   "source": [
    "pip install gdown"
   ]
  },
  {
   "cell_type": "code",
   "execution_count": null,
   "id": "6d8e3002-5226-4b4d-bc22-91ddb681b554",
   "metadata": {},
   "outputs": [
    {
     "name": "stdout",
     "output_type": "stream",
     "text": [
      "Downloading dataset from https://drive.google.com/uc?id=1IMmKOuUBQqBzMN76NHuC4KFjj-a7IYf2...\n"
     ]
    },
    {
     "name": "stderr",
     "output_type": "stream",
     "text": [
      "Downloading...\n",
      "From (original): https://drive.google.com/uc?id=1IMmKOuUBQqBzMN76NHuC4KFjj-a7IYf2\n",
      "From (redirected): https://drive.google.com/uc?id=1IMmKOuUBQqBzMN76NHuC4KFjj-a7IYf2&confirm=t&uuid=fdd027f5-4ab0-44a8-a6b4-cac8e4db13f7\n",
      "To: /Users/kofmanya/Desktop/HSE/My assignments/year 2/LMSL2/Final_SGA/tmp/data/dataset.zip\n",
      " 38%|████████████████████████▊                                         | 1.05G/2.79G [00:20<00:37, 47.2MB/s]"
     ]
    }
   ],
   "source": [
    "import os\n",
    "import gdown\n",
    "from zipfile import ZipFile\n",
    "\n",
    "def download_and_extract_from_google_drive(file_id, destination_folder=\"data\"):\n",
    "    # Ensure the destination folder exists\n",
    "    if not os.path.exists(destination_folder):\n",
    "        os.makedirs(destination_folder)\n",
    "    \n",
    "    # Build the download URL\n",
    "    download_url = f\"https://drive.google.com/uc?id={file_id}\"\n",
    "    \n",
    "    # Path to save the downloaded file\n",
    "    zip_path = os.path.join(destination_folder, \"dataset.zip\")\n",
    "    \n",
    "    print(f\"Downloading dataset from {download_url}...\")\n",
    "    gdown.download(download_url, zip_path, quiet=False)\n",
    "\n",
    "    # Extract the dataset\n",
    "    print(\"Extracting dataset...\")\n",
    "    with ZipFile(zip_path, \"r\") as zip_ref:\n",
    "        zip_ref.extractall(destination_folder)\n",
    "    \n",
    "    # Remove the zip file\n",
    "    os.remove(zip_path)\n",
    "    print(f\"Dataset downloaded and extracted to {destination_folder}\")\n",
    "\n",
    "# Example usage\n",
    "file_id = \"1IMmKOuUBQqBzMN76NHuC4KFjj-a7IYf2\"  # Replace with your actual file ID\n",
    "download_and_extract_from_google_drive(file_id)"
   ]
  },
  {
   "cell_type": "code",
   "execution_count": null,
   "id": "b09f0fb5-3c56-41be-b841-17d34dc821b2",
   "metadata": {},
   "outputs": [],
   "source": []
  }
 ],
 "metadata": {
  "kernelspec": {
   "display_name": "Python 3 (ipykernel)",
   "language": "python",
   "name": "python3"
  },
  "language_info": {
   "codemirror_mode": {
    "name": "ipython",
    "version": 3
   },
   "file_extension": ".py",
   "mimetype": "text/x-python",
   "name": "python",
   "nbconvert_exporter": "python",
   "pygments_lexer": "ipython3",
   "version": "3.11.7"
  }
 },
 "nbformat": 4,
 "nbformat_minor": 5
}
