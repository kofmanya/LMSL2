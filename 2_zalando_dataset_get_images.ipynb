{
 "cells": [
  {
   "cell_type": "code",
   "execution_count": 1,
   "id": "653a3e73-46a8-4acb-bbc8-265fccc5b9bd",
   "metadata": {},
   "outputs": [],
   "source": [
    "import os\n",
    "import pickle\n",
    "import pandas as pd\n",
    "import requests\n",
    "import random\n",
    "import time\n",
    "from fake_useragent import UserAgent"
   ]
  },
  {
   "cell_type": "code",
   "execution_count": 2,
   "id": "4fe32132-22a9-49e7-9bea-e98f1ad97810",
   "metadata": {},
   "outputs": [],
   "source": [
    "with open('items.pkl', 'rb') as file:\n",
    "    items = pickle.load(file)"
   ]
  },
  {
   "cell_type": "code",
   "execution_count": null,
   "id": "e3ad0939-33ad-4d45-9c5f-d12a6053a229",
   "metadata": {},
   "outputs": [],
   "source": [
    "print(type(items), len(items))"
   ]
  },
  {
   "cell_type": "code",
   "execution_count": null,
   "id": "7ab576e9-cd5f-4d37-877f-b0778cfcac2e",
   "metadata": {},
   "outputs": [],
   "source": [
    "first_key = next(iter(items.keys()))\n",
    "first_key"
   ]
  },
  {
   "cell_type": "code",
   "execution_count": null,
   "id": "afd94bb6-2d5a-4da3-b28d-9a907de53bb6",
   "metadata": {},
   "outputs": [],
   "source": [
    "print(items[first_key])"
   ]
  },
  {
   "cell_type": "code",
   "execution_count": 6,
   "id": "00f6d09f-05b8-43bf-a02f-461a8a4ee0e4",
   "metadata": {},
   "outputs": [],
   "source": [
    "with open('downloaded_items.pkl', 'rb') as file:\n",
    "    saved_items = pickle.load(file)\n",
    "\n",
    "#saved_items"
   ]
  },
  {
   "cell_type": "code",
   "execution_count": 7,
   "id": "95a037da-30c9-47df-882b-12f96065baa0",
   "metadata": {},
   "outputs": [],
   "source": [
    "def download_image(url, save_path):\n",
    "    ua = UserAgent()\n",
    "    headers = {\"User-Agent\": ua.random}\n",
    "\n",
    "    try:\n",
    "        if os.path.exists(save_path):\n",
    "            return \n",
    "        os.makedirs(os.path.dirname(save_path), exist_ok=True)\n",
    "        \n",
    "        response = requests.get(url, headers=headers, timeout=10)\n",
    "        if response.status_code == 200:\n",
    "            with open(save_path, 'wb') as file:\n",
    "                file.write(response.content)\n",
    "            #print(f\"Downloaded: {save_path}\")\n",
    "        else:\n",
    "            print(f\"Failed to download {url} - HTTP {response.status_code}\")\n",
    "    except Exception as e:\n",
    "        with open('downloaded_items.pkl', 'wb') as file:\n",
    "             pickle.dump(saved_items, file)\n",
    "            \n",
    "        print(f\"Error downloading {url}: {e}\")"
   ]
  },
  {
   "cell_type": "code",
   "execution_count": null,
   "id": "e6ebc8ab-cfde-4dce-93ab-3b44dcd94da5",
   "metadata": {},
   "outputs": [],
   "source": [
    "count = 0\n",
    "for item in items.values():\n",
    "    if item['id'] in saved_items[item['category']]:\n",
    "        continue\n",
    "    if len(saved_items[item['category']]) < 1000:\n",
    "        for i in range(len(item['images'])):\n",
    "            save_path = 'images/' + item['images'][i].replace('https://img01.ztat.net/article/', '')\n",
    "            download_image(item['images'][i], save_path)\n",
    "            if count % 100 == 0:  # Rest after every 100 requests\n",
    "                print(f\"Downloaded: {count} items.\")\n",
    "                time.sleep(random.uniform(5, 10))\n",
    "            else:\n",
    "                time.sleep(random.uniform(1, 2))  # Shorter random delay\n",
    "            count += 1\n",
    "        \n",
    "        saved_items[item['category']].append(item['id'])\n",
    "        print(f\"Downloaded: {item['category']}, {item['id']}\")"
   ]
  },
  {
   "cell_type": "code",
   "execution_count": 9,
   "id": "e8462a6e-a3b1-49aa-8ced-edf4c354a4b1",
   "metadata": {},
   "outputs": [],
   "source": [
    "with open('downloaded_items.pkl', 'wb') as file:\n",
    "    pickle.dump(saved_items, file)"
   ]
  },
  {
   "cell_type": "code",
   "execution_count": 12,
   "id": "dbeb275f-c100-47b1-ae3d-6c1e6d0c77a6",
   "metadata": {},
   "outputs": [
    {
     "name": "stdout",
     "output_type": "stream",
     "text": [
      "Downloaded: 1000 damenbekleidung-kleider\n",
      "Downloaded: 1000 damenbekleidung-shirts\n",
      "Downloaded: 1000 damenbekleidung-jeans\n",
      "Downloaded: 1000 damenbekleidung-jacken\n",
      "Downloaded: 1000 damenbekleidung-jacken-maentel\n",
      "Downloaded: 1000 damenbekleidung-blusen-tuniken\n"
     ]
    }
   ],
   "source": [
    "for item in saved_items.keys():\n",
    "    print(f\"Downloaded: {len(saved_items[item])} {item}\")\n",
    "    \n",
    "#saved_items"
   ]
  },
  {
   "cell_type": "code",
   "execution_count": null,
   "id": "33a89872-8cf7-474d-8570-26aea00eadd8",
   "metadata": {},
   "outputs": [],
   "source": []
  }
 ],
 "metadata": {
  "kernelspec": {
   "display_name": "Python 3 (ipykernel)",
   "language": "python",
   "name": "python3"
  },
  "language_info": {
   "codemirror_mode": {
    "name": "ipython",
    "version": 3
   },
   "file_extension": ".py",
   "mimetype": "text/x-python",
   "name": "python",
   "nbconvert_exporter": "python",
   "pygments_lexer": "ipython3",
   "version": "3.11.7"
  }
 },
 "nbformat": 4,
 "nbformat_minor": 5
}
